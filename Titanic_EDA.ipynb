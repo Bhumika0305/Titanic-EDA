{
  "cells": [
    {
      "cell_type": "markdown",
      "metadata": {
        "id": "teqZKI1jNCfP"
      },
      "source": [
        "# Titanic Dataset - Exploratory Data Analysis\n",
        "**Objective:** To analyze the Titanic passenger data to uncover patterns that affected survival outcomes.\n",
        "\n",
        "[Kaggle Titanic Dataset](https://www.kaggle.com/c/titanic/data)"
      ]
    },
    {
      "cell_type": "code",
      "metadata": {
        "id": "ewSNXYs1NCfS"
      },
      "execution_count": null,
      "outputs": [],
      "source": [
        "# Install required libraries (if not available)\n",
        "!pip install seaborn scikit-learn\n",
        "\n",
        "import pandas as pd\n",
        "import numpy as np\n",
        "import matplotlib.pyplot as plt\n",
        "import seaborn as sns\n",
        "\n",
        "from sklearn.model_selection import train_test_split, cross_val_score\n",
        "from sklearn.preprocessing import LabelEncoder\n",
        "from sklearn.linear_model import LogisticRegression\n",
        "from sklearn.tree import DecisionTreeClassifier\n",
        "from sklearn.ensemble import RandomForestClassifier\n",
        "from sklearn.metrics import classification_report, confusion_matrix, roc_auc_score, accuracy_score"
      ]
    },
    {
      "cell_type": "code",
      "metadata": {
        "id": "ZebXj20PNCfS"
      },
      "execution_count": 27,
      "outputs": [],
      "source": [
        "# Download the data files from Kaggle or upload them directly in Colab\n",
        "train = pd.read_csv('/content/train.csv')  # Adjust your path or use upload widget\n",
        "test = pd.read_csv('/content/test.csv')"
      ]
    },
    {
      "cell_type": "code",
      "metadata": {
        "id": "ubBlkOmONCfT"
      },
      "execution_count": null,
      "outputs": [],
      "source": [
        "# Preview data\n",
        "display(train.head())\n",
        "train.info()\n",
        "train.describe()\n",
        "\n",
        "# Checking missing values\n",
        "print(train.isnull().sum())\n",
        "\n",
        "# Visualizing survival counts\n",
        "sns.countplot(x='Survived', data=train)\n",
        "plt.title('Survival Counts')\n",
        "plt.show()\n",
        "\n",
        "# Survival by Sex\n",
        "sns.countplot(x='Sex', hue='Survived', data=train)\n",
        "plt.title('Survival by Sex')\n",
        "plt.show()\n",
        "\n",
        "# Survival by Pclass\n",
        "sns.countplot(x='Pclass', hue='Survived', data=train)\n",
        "plt.title('Survival by Passenger Class')\n",
        "plt.show()\n",
        "\n",
        "# Age distribution\n",
        "train['Age'].hist(bins=30, edgecolor='k')\n",
        "plt.title('Age Distribution')\n",
        "plt.xlabel('Age')\n",
        "plt.ylabel('Count')\n",
        "plt.show()\n",
        "\n",
        "# Fare distribution\n",
        "train['Fare'].hist(bins=30, edgecolor='k')\n",
        "plt.title('Fare Distribution')\n",
        "plt.xlabel('Fare')\n",
        "plt.ylabel('Count')\n",
        "plt.show()"
      ]
    },
    {
      "cell_type": "code",
      "metadata": {
        "id": "UrDyeTe5NCfT"
      },
      "execution_count": 29,
      "outputs": [],
      "source": [
        "# Fill missing Age with median\n",
        "train['Age'] = train['Age'].fillna(train['Age'].median())\n",
        "test['Age'] = test['Age'].fillna(test['Age'].median())\n",
        "\n",
        "# Fill Embarked with mode\n",
        "train['Embarked'] = train['Embarked'].fillna(train['Embarked'].mode()[0])\n",
        "test['Embarked'] = test['Embarked'].fillna(test['Embarked'].mode()[0])\n",
        "\n",
        "# Fill missing Fare in test set\n",
        "test['Fare'] = test['Fare'].fillna(test['Fare'].median())\n",
        "\n",
        "# Drop Cabin (too many missing values)\n",
        "train = train.drop('Cabin', axis=1)\n",
        "test = test.drop('Cabin', axis=1)\n"
      ]
    },
    {
      "cell_type": "code",
      "metadata": {
        "id": "JBlkniChNCfT"
      },
      "execution_count": 30,
      "outputs": [],
      "source": [
        "# Create FamilySize feature\n",
        "train['FamilySize'] = train['SibSp'] + train['Parch'] + 1\n",
        "test['FamilySize'] = test['SibSp'] + test['Parch'] + 1\n",
        "\n",
        "# Encode Sex\n",
        "le = LabelEncoder()\n",
        "train['Sex'] = le.fit_transform(train['Sex'])\n",
        "test['Sex'] = le.transform(test['Sex'])\n",
        "\n",
        "# Encode Embarked\n",
        "embarked_mapping = {'S': 0, 'C': 1, 'Q': 2}\n",
        "train['Embarked'] = train['Embarked'].map(embarked_mapping)\n",
        "test['Embarked'] = test['Embarked'].map(embarked_mapping)"
      ]
    },
    {
      "cell_type": "code",
      "metadata": {
        "id": "pZgcuZ5YNCfU"
      },
      "execution_count": 31,
      "outputs": [],
      "source": [
        "target = 'Survived'\n",
        "features = ['Pclass', 'Sex', 'Age', 'Fare', 'Embarked', 'FamilySize']\n",
        "\n",
        "X = train[features]\n",
        "y = train[target]"
      ]
    },
    {
      "cell_type": "code",
      "metadata": {
        "id": "aYQbm1UnNCfU"
      },
      "execution_count": null,
      "outputs": [],
      "source": [
        "X_train, X_val, y_train, y_val = train_test_split(X, y, test_size=0.2, random_state=42)\n",
        "\n",
        "logreg = LogisticRegression(max_iter=1000)\n",
        "logreg.fit(X_train, y_train)\n",
        "y_pred = logreg.predict(X_val)\n",
        "\n",
        "print(\"Logistic Regression Results:\")\n",
        "print(classification_report(y_val, y_pred))\n",
        "print(\"Accuracy:\", accuracy_score(y_val, y_pred))"
      ]
    },
    {
      "cell_type": "code",
      "metadata": {
        "id": "wMXcuu5sNCfU"
      },
      "execution_count": null,
      "outputs": [],
      "source": [
        "dt = DecisionTreeClassifier(random_state=42)\n",
        "dt.fit(X_train, y_train)\n",
        "y_pred_dt = dt.predict(X_val)\n",
        "\n",
        "print(\"\\nDecision Tree Results:\")\n",
        "print(classification_report(y_val, y_pred_dt))\n",
        "print(\"Accuracy:\", accuracy_score(y_val, y_pred_dt))"
      ]
    },
    {
      "cell_type": "code",
      "source": [
        "rf = RandomForestClassifier(n_estimators=100, random_state=42)\n",
        "rf.fit(X_train, y_train)\n",
        "y_pred_rf = rf.predict(X_val)\n",
        "\n",
        "print(\"\\nRandom Forest Results:\")\n",
        "print(classification_report(y_val, y_pred_rf))\n",
        "print(\"Accuracy:\", accuracy_score(y_val, y_pred_rf))"
      ],
      "metadata": {
        "id": "0jPVIankQfLq"
      },
      "execution_count": null,
      "outputs": []
    },
    {
      "cell_type": "code",
      "source": [
        "cv_scores = cross_val_score(rf, X, y, cv=5)\n",
        "print(\"Random Forest Cross-Val Accuracy:\", np.mean(cv_scores))"
      ],
      "metadata": {
        "id": "8JAbfAFyQlm4"
      },
      "execution_count": null,
      "outputs": []
    },
    {
      "cell_type": "code",
      "source": [
        "importances = rf.feature_importances_\n",
        "feat_importance = pd.Series(importances, index=features).sort_values(ascending=False)\n",
        "feat_importance.plot(kind='bar')\n",
        "plt.title('Feature Importances')\n",
        "plt.show()"
      ],
      "metadata": {
        "id": "A9h9FiHNQsRb"
      },
      "execution_count": null,
      "outputs": []
    },
    {
      "cell_type": "code",
      "source": [
        "y_test_pred = rf.predict(test[features])\n",
        "submission = pd.DataFrame({\n",
        "    'PassengerId': test['PassengerId'],\n",
        "    'Survived': y_test_pred\n",
        "})\n",
        "submission.to_csv('submission.csv', index=False)\n",
        "print('Submission file created.')"
      ],
      "metadata": {
        "id": "Ob9y34bFQxmy"
      },
      "execution_count": null,
      "outputs": []
    },
    {
      "cell_type": "markdown",
      "metadata": {
        "id": "syIfNiQ5NCfU"
      },
      "source": [
        "##  Insights and Discussion:\n",
        "1. Sex, Pclass, and Fare are the most influential features for predicting survival.\n",
        "\n",
        "2. Women, younger passengers, and those with higher class/fare had higher survival rates.\n",
        "\n",
        "3. Extensive EDA combined with feature engineering and robust modeling yields strong predictive performance."
      ]
    }
  ],
  "metadata": {
    "colab": {
      "provenance": []
    },
    "kernelspec": {
      "display_name": "Python 3",
      "language": "python",
      "name": "python3"
    },
    "language_info": {
      "name": "python",
      "version": "3.10"
    }
  },
  "nbformat": 4,
  "nbformat_minor": 0
}
